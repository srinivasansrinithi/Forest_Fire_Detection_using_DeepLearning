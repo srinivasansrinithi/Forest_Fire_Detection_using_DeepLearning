{
  "nbformat": 4,
  "nbformat_minor": 0,
  "metadata": {
    "colab": {
      "provenance": [],
      "authorship_tag": "ABX9TyN2GDUEWkVWZwvjPiW6/poV",
      "include_colab_link": true
    },
    "kernelspec": {
      "name": "python3",
      "display_name": "Python 3"
    },
    "language_info": {
      "name": "python"
    }
  },
  "cells": [
    {
      "cell_type": "markdown",
      "metadata": {
        "id": "view-in-github",
        "colab_type": "text"
      },
      "source": [
        "<a href=\"https://colab.research.google.com/github/srinivasansrinithi/Forest_Fire_Detection_using_DeepLearning/blob/main/CN_programs.ipynb\" target=\"_parent\"><img src=\"https://colab.research.google.com/assets/colab-badge.svg\" alt=\"Open In Colab\"/></a>"
      ]
    },
    {
      "cell_type": "code",
      "execution_count": null,
      "metadata": {
        "colab": {
          "base_uri": "https://localhost:8080/"
        },
        "id": "nr4y9TmB4-6J",
        "outputId": "92230f25-a511-4e88-a2fc-123677ce0908"
      },
      "outputs": [
        {
          "output_type": "stream",
          "name": "stdout",
          "text": [
            "Encapsulation:\n",
            "Application Layer Header -> Hello World\n",
            "Presentation Layer Header -> Application Layer Header -> Hello World\n",
            "Session Layer Header -> Presentation Layer Header -> Application Layer Header -> Hello World\n",
            "Transport Layer Header -> Session Layer Header -> Presentation Layer Header -> Application Layer Header -> Hello World\n",
            "Network Layer Header -> Transport Layer Header -> Session Layer Header -> Presentation Layer Header -> Application Layer Header -> Hello World\n",
            "Data Link Layer Header -> Network Layer Header -> Transport Layer Header -> Session Layer Header -> Presentation Layer Header -> Application Layer Header -> Hello World\n",
            "Physical Layer Header -> Data Link Layer Header -> Network Layer Header -> Transport Layer Header -> Session Layer Header -> Presentation Layer Header -> Application Layer Header -> Hello World\n",
            "\n",
            "Decapsulation:\n",
            "Removing Physical Layer Header: Data Link Layer Header -> Network Layer Header -> Transport Layer Header -> Session Layer Header -> Presentation Layer Header -> Application Layer Header -> Hello World\n",
            "Removing Data Link Layer Header: Network Layer Header -> Transport Layer Header -> Session Layer Header -> Presentation Layer Header -> Application Layer Header -> Hello World\n",
            "Removing Network Layer Header: Transport Layer Header -> Session Layer Header -> Presentation Layer Header -> Application Layer Header -> Hello World\n",
            "Removing Transport Layer Header: Session Layer Header -> Presentation Layer Header -> Application Layer Header -> Hello World\n",
            "Removing Session Layer Header: Presentation Layer Header -> Application Layer Header -> Hello World\n",
            "Removing Presentation Layer Header: Application Layer Header -> Hello World\n",
            "Removing Application Layer Header: Hello World\n"
          ]
        }
      ],
      "source": [
        " # 1)OSI Layer Simulation\n",
        "\n",
        "layers = [\n",
        "    \"Physical Layer\",\n",
        "    \"Data Link Layer\",\n",
        "    \"Network Layer\",\n",
        "    \"Transport Layer\",\n",
        "    \"Session Layer\",\n",
        "    \"Presentation Layer\",\n",
        "    \"Application Layer\"\n",
        "]\n",
        "\n",
        "def osi_model(data):\n",
        "    print(\"Encapsulation:\")\n",
        "    for layer in reversed(layers):\n",
        "        data = f\"{layer} Header -> {data}\"\n",
        "        print(data)\n",
        "\n",
        "    print(\"\\nDecapsulation:\")\n",
        "    for layer in layers:\n",
        "        data = data.replace(f\"{layer} Header -> \", \"\", 1)\n",
        "        print(f\"Removing {layer} Header: {data}\")\n",
        "\n",
        "osi_model(\"Hello World\")\n",
        "\n"
      ]
    },
    {
      "cell_type": "code",
      "source": [
        "# 2)CRC Error Detection\n",
        "\n",
        "\n",
        "def xor(a, b):\n",
        "    result = \"\"\n",
        "    for i in range(1, len(b)):\n",
        "        result += '0' if a[i] == b[i] else '1'\n",
        "    return result\n",
        "\n",
        "def mod2div(dividend, divisor):\n",
        "    pick = len(divisor)\n",
        "    tmp = dividend[0:pick]\n",
        "    while pick < len(dividend):\n",
        "        tmp = xor(divisor, tmp) + dividend[pick]\n",
        "        pick += 1\n",
        "    return xor(divisor, tmp)\n",
        "\n",
        "def encodeData(data, key):\n",
        "    appended_data = data + '0'*(len(key)-1)\n",
        "    remainder = mod2div(appended_data, key)\n",
        "    return data + remainder\n",
        "\n",
        "data = \"1010101\"\n",
        "key = \"1101\"\n",
        "print(\"Encoded Data (CRC):\", encodeData(data, key))\n"
      ],
      "metadata": {
        "colab": {
          "base_uri": "https://localhost:8080/"
        },
        "id": "VPYgdCIS5EdE",
        "outputId": "006a658c-5689-4d46-ac29-1091cb0fedfa"
      },
      "execution_count": null,
      "outputs": [
        {
          "output_type": "stream",
          "name": "stdout",
          "text": [
            "Encoded Data (CRC): 1010101011\n"
          ]
        }
      ]
    },
    {
      "cell_type": "code",
      "source": [
        "# 3)Hamming Code (7,4)*\n",
        "\n",
        "\n",
        "def calcParityBits(data):\n",
        "    p1 = data[0] ^ data[1] ^ data[3]\n",
        "    p2 = data[0] ^ data[2] ^ data[3]\n",
        "    p3 = data[1] ^ data[2] ^ data[3]\n",
        "    return [p1, p2, data[0], p3, data[1], data[2], data[3]]\n",
        "\n",
        "data = [1, 0, 1, 1]\n",
        "code = calcParityBits(data)\n",
        "print(\"Hamming Code:\", code)\n",
        "\n"
      ],
      "metadata": {
        "colab": {
          "base_uri": "https://localhost:8080/"
        },
        "id": "uue7pIye5jK5",
        "outputId": "cb172867-e735-4967-c215-fd41fdfd2ca8"
      },
      "execution_count": null,
      "outputs": [
        {
          "output_type": "stream",
          "name": "stdout",
          "text": [
            "Hamming Code: [0, 1, 1, 0, 0, 1, 1]\n"
          ]
        }
      ]
    },
    {
      "cell_type": "code",
      "source": [
        "# 4)Stop and Wait ARQ\n",
        "\n",
        "def stop_and_wait(frames):\n",
        "    for frame in frames:\n",
        "        print(f\"Sending Frame: {frame}\")\n",
        "        print(f\"Waiting for ACK for Frame: {frame}\")\n",
        "        print(f\"ACK received for Frame: {frame}\\n\")\n",
        "\n",
        "stop_and_wait([\"Frame1\", \"Frame2\", \"Frame3\"])\n",
        "\n"
      ],
      "metadata": {
        "colab": {
          "base_uri": "https://localhost:8080/"
        },
        "id": "7IJx_lqu5qqw",
        "outputId": "553c7af6-7950-4c85-f8a3-1eff37822ce3"
      },
      "execution_count": null,
      "outputs": [
        {
          "output_type": "stream",
          "name": "stdout",
          "text": [
            "Sending Frame: Frame1\n",
            "Waiting for ACK for Frame: Frame1\n",
            "ACK received for Frame: Frame1\n",
            "\n",
            "Sending Frame: Frame2\n",
            "Waiting for ACK for Frame: Frame2\n",
            "ACK received for Frame: Frame2\n",
            "\n",
            "Sending Frame: Frame3\n",
            "Waiting for ACK for Frame: Frame3\n",
            "ACK received for Frame: Frame3\n",
            "\n"
          ]
        }
      ]
    },
    {
      "cell_type": "code",
      "source": [
        "# 5)Go-Back-N ARQ\n",
        "\n",
        "def go_back_n(frames, window_size):\n",
        "    i = 0\n",
        "    while i < len(frames):\n",
        "        window = frames[i:i+window_size]\n",
        "        print(f\"Sending Window: {window}\")\n",
        "        print(\"ACK lost for one frame. Resending window...\\n\")\n",
        "        i += window_size\n",
        "\n",
        "frames = [\"F1\", \"F2\", \"F3\", \"F4\", \"F5\"]\n",
        "go_back_n(frames, 3)\n"
      ],
      "metadata": {
        "colab": {
          "base_uri": "https://localhost:8080/"
        },
        "id": "IGs-w-2u56si",
        "outputId": "dab82498-e55e-45e2-c072-3e2f68863c8a"
      },
      "execution_count": null,
      "outputs": [
        {
          "output_type": "stream",
          "name": "stdout",
          "text": [
            "Sending Window: ['F1', 'F2', 'F3']\n",
            "ACK lost for one frame. Resending window...\n",
            "\n",
            "Sending Window: ['F4', 'F5']\n",
            "ACK lost for one frame. Resending window...\n",
            "\n"
          ]
        }
      ]
    },
    {
      "cell_type": "code",
      "source": [
        "# 6)Selective Repeat ARQ\n",
        "\n",
        "def selective_repeat(frames, window_size):\n",
        "    for i in range(0, len(frames), window_size):\n",
        "        window = frames[i:i+window_size]\n",
        "        print(f\"Sending frames: {window}\")\n",
        "        print(\"Only errored frames will be resent.\\n\")\n",
        "\n",
        "selective_repeat([\"F1\", \"F2\", \"F3\", \"F4\", \"F5\"], 2)\n"
      ],
      "metadata": {
        "colab": {
          "base_uri": "https://localhost:8080/"
        },
        "id": "0dJInQfg6BFN",
        "outputId": "65de0a48-4b23-4563-912c-a59ae7a470e0"
      },
      "execution_count": null,
      "outputs": [
        {
          "output_type": "stream",
          "name": "stdout",
          "text": [
            "Sending frames: ['F1', 'F2']\n",
            "Only errored frames will be resent.\n",
            "\n",
            "Sending frames: ['F3', 'F4']\n",
            "Only errored frames will be resent.\n",
            "\n",
            "Sending frames: ['F5']\n",
            "Only errored frames will be resent.\n",
            "\n"
          ]
        }
      ]
    },
    {
      "cell_type": "code",
      "source": [
        "# 7)Slotted ALOHA Simulation\n",
        "\n",
        "\n",
        "import random\n",
        "\n",
        "def slotted_aloha():\n",
        "    slots = 10\n",
        "    success = 0\n",
        "    for t in range(slots):\n",
        "        users = random.choices([0,1], k=5)\n",
        "        if users.count(1) == 1:\n",
        "            success += 1\n",
        "    print(\"Successful Transmissions:\", success)\n",
        "\n",
        "slotted_aloha()\n"
      ],
      "metadata": {
        "colab": {
          "base_uri": "https://localhost:8080/"
        },
        "id": "xro-n_Po6J8e",
        "outputId": "8aea2f9c-f9ad-43da-d93c-ba13c3f4bc21"
      },
      "execution_count": null,
      "outputs": [
        {
          "output_type": "stream",
          "name": "stdout",
          "text": [
            "Successful Transmissions: 2\n"
          ]
        }
      ]
    },
    {
      "cell_type": "code",
      "source": [
        "# 8)CSMA/CD Simulation\n",
        "\n",
        "import random\n",
        "\n",
        "def csma_cd():\n",
        "    attempts = 0\n",
        "    while True:\n",
        "        attempts += 1\n",
        "        print(\"Checking if line is idle...\")\n",
        "        if random.random() > 0.2:\n",
        "            print(\"Transmitting data...\")\n",
        "            if random.random() < 0.1:\n",
        "                print(\"Collision detected! Sending jamming signal...\\n\")\n",
        "            else:\n",
        "                print(\"Data sent successfully.\\n\")\n",
        "                break\n",
        "\n",
        "csma_cd()\n"
      ],
      "metadata": {
        "colab": {
          "base_uri": "https://localhost:8080/"
        },
        "id": "7ZaOXrUN6UEt",
        "outputId": "b47366f0-63a4-4502-fbd4-989d2625f50d"
      },
      "execution_count": null,
      "outputs": [
        {
          "output_type": "stream",
          "name": "stdout",
          "text": [
            "Checking if line is idle...\n",
            "Transmitting data...\n",
            "Data sent successfully.\n",
            "\n"
          ]
        }
      ]
    },
    {
      "cell_type": "code",
      "source": [
        "# 9)IPv4/IPv6 Validator\n",
        "\n",
        "import ipaddress\n",
        "\n",
        "def validate_ip(ip):\n",
        "    try:\n",
        "        ip_obj = ipaddress.ip_address(ip)\n",
        "        print(f\"{ip} is a valid {ip_obj.version} IP address.\")\n",
        "    except ValueError:\n",
        "        print(f\"{ip} is not a valid IP address.\")\n",
        "\n",
        "validate_ip(\"192.168.1.1\")\n",
        "validate_ip(\"2001:0db8::1\")\n"
      ],
      "metadata": {
        "colab": {
          "base_uri": "https://localhost:8080/"
        },
        "id": "-2-oDDQg6awX",
        "outputId": "75e2f80d-5571-4db5-ca79-c904bbc403ef"
      },
      "execution_count": null,
      "outputs": [
        {
          "output_type": "stream",
          "name": "stdout",
          "text": [
            "192.168.1.1 is a valid 4 IP address.\n",
            "2001:0db8::1 is a valid 6 IP address.\n"
          ]
        }
      ]
    },
    {
      "cell_type": "code",
      "source": [
        "# 10)ARP and RARP Simulation\n",
        "\n",
        "arp_table = {\n",
        "    \"192.168.1.1\": \"00:1B:44:11:3A:B7\",\n",
        "    \"192.168.1.2\": \"00:1B:44:11:3A:B8\"\n",
        "}\n",
        "\n",
        "def arp(ip):\n",
        "    return arp_table.get(ip, \"MAC not found\")\n",
        "\n",
        "def rarp(mac):\n",
        "    for ip, val in arp_table.items():\n",
        "        if val == mac:\n",
        "            return ip\n",
        "    return \"IP not found\"\n",
        "\n",
        "print(\"ARP for 192.168.1.1:\", arp(\"192.168.1.1\"))\n",
        "print(\"RARP for MAC 00:1B:44:11:3A:B8:\", rarp(\"00:1B:44:11:3A:B8\"))\n"
      ],
      "metadata": {
        "colab": {
          "base_uri": "https://localhost:8080/"
        },
        "id": "1pJLLXUN6hER",
        "outputId": "17a48dcd-9843-421e-a256-c40dffee6452"
      },
      "execution_count": null,
      "outputs": [
        {
          "output_type": "stream",
          "name": "stdout",
          "text": [
            "ARP for 192.168.1.1: 00:1B:44:11:3A:B7\n",
            "RARP for MAC 00:1B:44:11:3A:B8: 192.168.1.2\n"
          ]
        }
      ]
    },
    {
      "cell_type": "code",
      "source": [
        "# 11)Dijkstra’s Routing Algorithm\n",
        "\n",
        "\n",
        "import heapq\n",
        "\n",
        "def dijkstra(graph, start):\n",
        "    queue = [(0, start)]\n",
        "    distances = {node: float('inf') for node in graph}\n",
        "    distances[start] = 0\n",
        "\n",
        "    while queue:\n",
        "        curr_dist, curr_node = heapq.heappop(queue)\n",
        "        for neighbor, weight in graph[curr_node].items():\n",
        "            distance = curr_dist + weight\n",
        "            if distance < distances[neighbor]:\n",
        "                distances[neighbor] = distance\n",
        "                heapq.heappush(queue, (distance, neighbor))\n",
        "    return distances\n",
        "\n",
        "graph = {\n",
        "    'A': {'B': 2, 'C': 5},\n",
        "    'B': {'A': 2, 'C': 6, 'D': 1},\n",
        "    'C': {'A': 5, 'B': 6, 'D': 3},\n",
        "    'D': {'B': 1, 'C': 3}\n",
        "}\n",
        "print(dijkstra(graph, 'A'))\n"
      ],
      "metadata": {
        "colab": {
          "base_uri": "https://localhost:8080/"
        },
        "id": "UFfudh4f6oDK",
        "outputId": "323d5902-0476-4509-d4b3-bc5eb24a90d8"
      },
      "execution_count": null,
      "outputs": [
        {
          "output_type": "stream",
          "name": "stdout",
          "text": [
            "{'A': 0, 'B': 2, 'C': 5, 'D': 3}\n"
          ]
        }
      ]
    },
    {
      "cell_type": "code",
      "source": [
        "# 12)Leaky Bucket Algorithm\n",
        "\n",
        "\n",
        "def leaky_bucket(packet_size, bucket_size, output_rate):\n",
        "    bucket = 0\n",
        "    for i, packet in enumerate(packet_size):\n",
        "        print(f\"\\nPacket {i+1}: {packet} bytes\")\n",
        "        if packet > bucket_size:\n",
        "            print(\"Packet rejected: exceeds bucket capacity\")\n",
        "        else:\n",
        "            if bucket + packet > bucket_size:\n",
        "                print(\"Bucket full. Dropping packet.\")\n",
        "            else:\n",
        "                bucket += packet\n",
        "                print(f\"Packet accepted. Bucket now has {bucket} bytes.\")\n",
        "            bucket -= min(bucket, output_rate)\n",
        "            print(f\"Output {output_rate} bytes. Remaining in bucket: {bucket}\")\n",
        "\n",
        "leaky_bucket([100, 300, 400, 200], 500, 200)\n",
        "\n",
        "\n"
      ],
      "metadata": {
        "colab": {
          "base_uri": "https://localhost:8080/"
        },
        "id": "oFiMl6KN6w7F",
        "outputId": "5db491df-b5bb-4633-f6ba-caa248c89636"
      },
      "execution_count": null,
      "outputs": [
        {
          "output_type": "stream",
          "name": "stdout",
          "text": [
            "\n",
            "Packet 1: 100 bytes\n",
            "Packet accepted. Bucket now has 100 bytes.\n",
            "Output 200 bytes. Remaining in bucket: 0\n",
            "\n",
            "Packet 2: 300 bytes\n",
            "Packet accepted. Bucket now has 300 bytes.\n",
            "Output 200 bytes. Remaining in bucket: 100\n",
            "\n",
            "Packet 3: 400 bytes\n",
            "Packet accepted. Bucket now has 500 bytes.\n",
            "Output 200 bytes. Remaining in bucket: 300\n",
            "\n",
            "Packet 4: 200 bytes\n",
            "Packet accepted. Bucket now has 500 bytes.\n",
            "Output 200 bytes. Remaining in bucket: 300\n"
          ]
        }
      ]
    },
    {
      "cell_type": "code",
      "source": [],
      "metadata": {
        "id": "QqRW7s_969zE"
      },
      "execution_count": null,
      "outputs": []
    }
  ]
}